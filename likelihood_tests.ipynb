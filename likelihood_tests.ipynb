{
 "cells": [
  {
   "cell_type": "code",
   "execution_count": 24,
   "metadata": {},
   "outputs": [],
   "source": [
    "import sys\n",
    "from pynest import Sampler\n",
    "import numpy as np\n",
    "import matplotlib.pyplot as plt\n",
    "import pymultinest\n",
    "mean = 0\n",
    "dev = 2\n",
    "def simulate_data(a,b,n):\n",
    "    x = np.linspace(0,10,n)\n",
    "    y = a*x + b + np.random.normal(loc=mean,scale=dev,size=n)\n",
    "    return x,y\n",
    "\n",
    "x, y = simulate_data(5,10,50)\n",
    "\n",
    "def log_gaussian(x, mu, sig):\n",
    "    return np.log(1/np.sqrt(2 * np.pi * sig**2.0))  +  (-0.5/sig**2.0) * (x - mu)**2.0\n",
    "\n",
    "def myloglike(cube,ndim,nparam):\n",
    "    log_likelihood = 0\n",
    "    for i in tuple(zip(x,y)):\n",
    "        log_likelihood += log_gaussian(i[1], cube[0]*i[0] + cube[1], dev)\n",
    "    return log_likelihood\n",
    "\n",
    "def myprior(cube,ndim,nparam):\n",
    "    cube[0] = cube[0] * 10\n",
    "    cube[1] = cube[1] * 20\n",
    "    return cube\n",
    "\n",
    "def test_mcmc_instantation():\n",
    "    sampler = Sampler(log_likelihood=myloglike, prior=myprior, ndim = 2, sample_method = 'mcmc')\n",
    "    sampler.sample()\n",
    "\n"
   ]
  },
  {
   "cell_type": "code",
   "execution_count": 25,
   "metadata": {},
   "outputs": [
    {
     "data": {
      "text/plain": [
       "<matplotlib.collections.PathCollection at 0x7ff31c757ee0>"
      ]
     },
     "execution_count": 25,
     "metadata": {},
     "output_type": "execute_result"
    },
    {
     "data": {
      "image/png": "[encoded data removed]",
      "text/plain": [
       "<Figure size 432x288 with 1 Axes>"
      ]
     },
     "metadata": {
      "needs_background": "light"
     },
     "output_type": "display_data"
    }
   ],
   "source": [
    "plt.scatter(x,y,s=5)"
   ]
  },
  {
   "cell_type": "code",
   "execution_count": 27,
   "metadata": {},
   "outputs": [],
   "source": [
    "import pandas as pd\n",
    "\n",
    "data = pd.DataFrame({\"x\":x,\"y\":y})\n",
    "data.to_csv('simulated_data.csv',index=False)"
   ]
  },
  {
   "cell_type": "code",
   "execution_count": 6,
   "metadata": {},
   "outputs": [],
   "source": [
    "param1 = np.linspace(0,20,100)\n",
    "param1_likval = [myloglike([5,param]) for param in param1]"
   ]
  },
  {
   "cell_type": "code",
   "execution_count": 7,
   "metadata": {},
   "outputs": [
    {
     "data": {
      "text/plain": [
       "<matplotlib.lines.Line2D at 0x7ff31c54e0a0>"
      ]
     },
     "execution_count": 7,
     "metadata": {},
     "output_type": "execute_result"
    },
    {
     "data": {
      "image/png": "[encoded data removed]",
      "text/plain": [
       "<Figure size 432x288 with 1 Axes>"
      ]
     },
     "metadata": {
      "needs_background": "light"
     },
     "output_type": "display_data"
    }
   ],
   "source": [
    "plt.scatter(param1,param1_likval,s=5)\n",
    "plt.axvline(10)"
   ]
  },
  {
   "cell_type": "code",
   "execution_count": 8,
   "metadata": {},
   "outputs": [],
   "source": [
    "param2 = np.linspace(0,10,100)\n",
    "param2_likval = [myloglike([param,10]) for param in param2]"
   ]
  },
  {
   "cell_type": "code",
   "execution_count": 9,
   "metadata": {},
   "outputs": [
    {
     "data": {
      "text/plain": [
       "<matplotlib.lines.Line2D at 0x7ff31c6994f0>"
      ]
     },
     "execution_count": 9,
     "metadata": {},
     "output_type": "execute_result"
    },
    {
     "data": {
      "image/png": "[encoded data removed]",
      "text/plain": [
       "<Figure size 432x288 with 1 Axes>"
      ]
     },
     "metadata": {
      "needs_background": "light"
     },
     "output_type": "display_data"
    }
   ],
   "source": [
    "plt.scatter(param2,param2_likval,s=5)\n",
    "plt.axvline(5)"
   ]
  },
  {
   "cell_type": "code",
   "execution_count": 10,
   "metadata": {},
   "outputs": [
    {
     "data": {
      "text/plain": [
       "0.6816069482110201"
      ]
     },
     "execution_count": 10,
     "metadata": {},
     "output_type": "execute_result"
    }
   ],
   "source": [
    "np.random.normal(loc=0,scale=10)"
   ]
  },
  {
   "cell_type": "code",
   "execution_count": 11,
   "metadata": {},
   "outputs": [
    {
     "name": "stdout",
     "output_type": "stream",
     "text": [
      "cube [0.8323846976627834, 0.1530297184106909] [8.323846976627834, 3.060594368213818]\n",
      "Initial Upper Bound -36.046472276323335 -0.2 -36.24647227632334\n",
      "New upper bound -36.046472276323335 -0.4 -36.446472276323334 0.0\n",
      "New upper bound -36.046472276323335 -0.6 -36.64647227632334 0.0\n",
      "New upper bound -36.046472276323335 -0.8 -36.84647227632333 0.0\n",
      "New upper bound -36.046472276323335 -1.0 -37.046472276323335 0.0\n",
      "New upper bound -36.046472276323335 -1.2 -37.24647227632334 0.0\n",
      "New upper bound -36.046472276323335 -1.4 -37.446472276323334 0.0\n",
      "New upper bound -36.046472276323335 -1.6 -37.64647227632334 0.0\n",
      "New upper bound -36.046472276323335 -1.8 -37.84647227632333 0.0\n",
      "New upper bound -36.046472276323335 -2.0 -38.046472276323335 0.0\n",
      "New upper bound -36.046472276323335 -2.2 -38.24647227632334 0.0\n",
      "New upper bound -36.046472276323335 -2.4 -38.446472276323334 0.0\n",
      "New upper bound -36.046472276323335 -2.6 -38.64647227632334 0.0\n",
      "New upper bound -36.046472276323335 -2.8 -38.84647227632333 0.0\n",
      "New upper bound -36.046472276323335 -3.0 -39.046472276323335 0.0\n",
      "New upper bound -36.046472276323335 -3.2 -39.24647227632334 0.0\n",
      "New upper bound -36.046472276323335 -3.4 -39.446472276323334 0.0\n",
      "New upper bound -36.046472276323335 -3.6 -39.64647227632334 0.0\n",
      "New upper bound -36.046472276323335 -3.8 -39.84647227632333 0.0\n",
      "New upper bound -36.046472276323335 -4.0 -40.046472276323335 0.0\n",
      "New upper bound -36.046472276323335 -4.2 -40.24647227632334 0.0\n",
      "New upper bound -36.046472276323335 -4.4 -40.446472276323334 0.0\n",
      "New upper bound -36.046472276323335 -4.6 -40.64647227632334 0.0\n",
      "New upper bound -36.046472276323335 -4.8 -40.84647227632333 0.0\n",
      "New upper bound -36.046472276323335 -5.0 -41.046472276323335 0.0\n",
      "New upper bound -36.046472276323335 -5.2 -41.24647227632334 0.0\n",
      "New upper bound -36.046472276323335 -5.4 -41.446472276323334 0.0\n",
      "New upper bound -36.046472276323335 -5.6 -41.64647227632334 0.0\n",
      "New upper bound -36.046472276323335 -5.8 -41.84647227632333 0.0\n",
      "New upper bound -36.046472276323335 -6.0 -42.046472276323335 0.0\n",
      "New upper bound -36.046472276323335 -6.2 -42.24647227632334 0.0\n",
      "New upper bound -35.36761590461474 -6.4 -41.767615904614736 0.0\n",
      "New upper bound -35.36761590461474 -6.6 -41.96761590461474 0.0\n",
      "New upper bound -35.36761590461474 -6.8 -42.167615904614735 0.0\n",
      "New upper bound -35.36761590461474 -7.0 -42.36761590461474 0.0\n",
      "New upper bound -35.36761590461474 -7.2 -42.56761590461474 0.0\n",
      "New upper bound -35.36761590461474 -7.4 -42.767615904614736 0.0\n",
      "New upper bound -35.36761590461474 -7.6 -42.96761590461474 0.0\n",
      "New upper bound -35.36761590461474 -7.8 -43.167615904614735 0.0\n",
      "New upper bound -35.36761590461474 -8.0 -43.36761590461474 0.0\n",
      "New upper bound -35.36761590461474 -8.2 -43.56761590461474 0.0\n",
      "New upper bound -35.36761590461474 -8.4 -43.767615904614736 0.0\n",
      "New upper bound -35.36761590461474 -8.6 -43.96761590461474 0.0\n",
      "New upper bound -35.36761590461474 -8.8 -44.167615904614735 0.0\n",
      "New upper bound -35.35628825565752 -9.0 -44.35628825565752 0.0\n",
      "New upper bound -35.35628825565752 -9.2 -44.55628825565752 0.0\n",
      "New upper bound -35.35628825565752 -9.4 -44.756288255657516 0.0\n",
      "New upper bound -35.308662241410104 -9.6 -44.908662241410106 0.0\n",
      "New upper bound -35.308662241410104 -9.8 -45.1086622414101 0.0\n",
      "New upper bound -35.218893467816045 -10.0 -45.218893467816045 0.0\n",
      "New upper bound -35.218893467816045 -10.2 -45.41889346781605 0.0\n",
      "New upper bound -35.218893467816045 -10.4 -45.618893467816044 0.0\n",
      "New upper bound -35.218893467816045 -10.6 -45.818893467816046 0.0\n",
      "New upper bound -35.218893467816045 -10.8 -46.01889346781604 0.0\n",
      "New upper bound -35.218893467816045 -11.0 -46.218893467816045 0.0\n",
      "New upper bound -35.21235344574795 -11.2 -46.412353445747954 0.0\n",
      "New upper bound -35.21235344574795 -11.4 -46.61235344574795 0.0\n",
      "New upper bound -35.19482661468182 -11.6 -46.794826614681824 0.0\n",
      "New upper bound -35.19482661468182 -11.8 -46.99482661468183 0.0\n",
      "New upper bound -35.19482661468182 -12.0 -47.19482661468182 0.0\n",
      "New upper bound -35.19482661468182 -12.2 -47.39482661468182 0.0\n",
      "New upper bound -35.19482661468182 -12.4 -47.59482661468182 0.0\n",
      "New upper bound -35.19482661468182 -12.6 -47.794826614681824 0.0\n",
      "New upper bound -35.19482661468182 -12.8 -47.99482661468183 0.0\n",
      "New upper bound -35.19482661468182 -13.0 -48.19482661468182 0.0\n",
      "New upper bound -35.19482661468182 -13.2 -48.39482661468182 0.0\n",
      "New upper bound -35.194196012183944 -13.4 -48.59419601218394 0.0\n",
      "New upper bound -35.194196012183944 -13.6 -48.794196012183946 0.0\n",
      "New upper bound -35.194196012183944 -13.8 -48.99419601218395 0.0\n",
      "New upper bound -35.194196012183944 -14.0 -49.194196012183944 0.0\n",
      "New upper bound -35.194196012183944 -14.2 -49.39419601218394 0.0\n",
      "New upper bound -35.194196012183944 -14.4 -49.59419601218394 0.0\n",
      "New upper bound -35.19296047833055 -14.6 -49.79296047833055 0.0\n",
      "New upper bound -35.19296047833055 -14.8 -49.992960478330545 0.0\n",
      "New upper bound -35.19236174371026 -15.0 -50.19236174371026 0.0\n",
      "New upper bound -35.19236174371026 -15.2 -50.392361743710254 0.0\n",
      "New upper bound -35.19207988665235 -15.4 -50.59207988665235 0.0\n",
      "New upper bound -35.19207988665235 -15.6 -50.79207988665235 0.0\n",
      "New upper bound -35.19207988665235 -15.8 -50.99207988665235 0.0\n",
      "New upper bound -35.19207988665235 -16.0 -51.19207988665235 0.0\n",
      "New upper bound -35.19207988665235 -16.2 -51.392079886652354 0.0\n",
      "New upper bound -35.19207988665235 -16.4 -51.59207988665235 0.0\n",
      "New upper bound -35.19195397833087 -16.6 -51.791953978330874 0.0\n",
      "New upper bound -35.19195397833087 -16.8 -51.99195397833087 0.0\n",
      "New upper bound -35.19195397833087 -17.0 -52.19195397833087 0.0\n"
     ]
    },
    {
     "ename": "KeyboardInterrupt",
     "evalue": "",
     "output_type": "error",
     "traceback": [
      "\u001b[0;31m---------------------------------------------------------------------------\u001b[0m",
      "\u001b[0;31mKeyboardInterrupt\u001b[0m                         Traceback (most recent call last)",
      "\u001b[0;32m<ipython-input-11-f784dd116a79>\u001b[0m in \u001b[0;36m<module>\u001b[0;34m\u001b[0m\n\u001b[1;32m      1\u001b[0m \u001b[0msampler\u001b[0m \u001b[0;34m=\u001b[0m \u001b[0mSampler\u001b[0m\u001b[0;34m(\u001b[0m\u001b[0mlog_likelihood\u001b[0m\u001b[0;34m=\u001b[0m\u001b[0mmyloglike\u001b[0m\u001b[0;34m,\u001b[0m \u001b[0mprior\u001b[0m\u001b[0;34m=\u001b[0m\u001b[0mmyprior\u001b[0m\u001b[0;34m,\u001b[0m \u001b[0mndim\u001b[0m \u001b[0;34m=\u001b[0m \u001b[0;36m2\u001b[0m\u001b[0;34m,\u001b[0m \u001b[0msample_method\u001b[0m \u001b[0;34m=\u001b[0m \u001b[0;34m'mcmc'\u001b[0m\u001b[0;34m)\u001b[0m\u001b[0;34m\u001b[0m\u001b[0;34m\u001b[0m\u001b[0m\n\u001b[0;32m----> 2\u001b[0;31m \u001b[0msampler\u001b[0m\u001b[0;34m.\u001b[0m\u001b[0msample\u001b[0m\u001b[0;34m(\u001b[0m\u001b[0;34m)\u001b[0m\u001b[0;34m\u001b[0m\u001b[0;34m\u001b[0m\u001b[0m\n\u001b[0m",
      "\u001b[0;32m~/Dev/PyNest/pynest.py\u001b[0m in \u001b[0;36msample\u001b[0;34m(self)\u001b[0m\n\u001b[1;32m    115\u001b[0m                 \u001b[0mnew_prior_sample\u001b[0m \u001b[0;34m=\u001b[0m \u001b[0mself\u001b[0m\u001b[0;34m.\u001b[0m\u001b[0mprior\u001b[0m\u001b[0;34m(\u001b[0m\u001b[0mcopy\u001b[0m\u001b[0;34m.\u001b[0m\u001b[0mdeepcopy\u001b[0m\u001b[0;34m(\u001b[0m\u001b[0mnew_unit_sample\u001b[0m\u001b[0;34m)\u001b[0m\u001b[0;34m)\u001b[0m\u001b[0;34m\u001b[0m\u001b[0;34m\u001b[0m\u001b[0m\n\u001b[1;32m    116\u001b[0m                 \u001b[0;31m#print('new',new_unit_sample,new_prior_sample)\u001b[0m\u001b[0;34m\u001b[0m\u001b[0;34m\u001b[0m\u001b[0;34m\u001b[0m\u001b[0m\n\u001b[0;32m--> 117\u001b[0;31m                 \u001b[0mnew_likelihood_val\u001b[0m \u001b[0;34m=\u001b[0m \u001b[0mself\u001b[0m\u001b[0;34m.\u001b[0m\u001b[0mlog_likelihood\u001b[0m\u001b[0;34m(\u001b[0m\u001b[0mnew_prior_sample\u001b[0m\u001b[0;34m)\u001b[0m\u001b[0;34m\u001b[0m\u001b[0;34m\u001b[0m\u001b[0m\n\u001b[0m\u001b[1;32m    118\u001b[0m \u001b[0;34m\u001b[0m\u001b[0m\n\u001b[1;32m    119\u001b[0m             \u001b[0;31m#overwrite the old discarded sample\u001b[0m\u001b[0;34m\u001b[0m\u001b[0;34m\u001b[0m\u001b[0;34m\u001b[0m\u001b[0m\n",
      "\u001b[0;32m<ipython-input-4-ab70fac2677b>\u001b[0m in \u001b[0;36mmyloglike\u001b[0;34m(cube)\u001b[0m\n\u001b[1;32m     17\u001b[0m     \u001b[0mlog_likelihood\u001b[0m \u001b[0;34m=\u001b[0m \u001b[0;36m0\u001b[0m\u001b[0;34m\u001b[0m\u001b[0;34m\u001b[0m\u001b[0m\n\u001b[1;32m     18\u001b[0m     \u001b[0;32mfor\u001b[0m \u001b[0mi\u001b[0m \u001b[0;32min\u001b[0m \u001b[0mtuple\u001b[0m\u001b[0;34m(\u001b[0m\u001b[0mzip\u001b[0m\u001b[0;34m(\u001b[0m\u001b[0mx\u001b[0m\u001b[0;34m,\u001b[0m\u001b[0my\u001b[0m\u001b[0;34m)\u001b[0m\u001b[0;34m)\u001b[0m\u001b[0;34m:\u001b[0m\u001b[0;34m\u001b[0m\u001b[0;34m\u001b[0m\u001b[0m\n\u001b[0;32m---> 19\u001b[0;31m         \u001b[0mlog_likelihood\u001b[0m \u001b[0;34m+=\u001b[0m \u001b[0mlog_gaussian\u001b[0m\u001b[0;34m(\u001b[0m\u001b[0mi\u001b[0m\u001b[0;34m[\u001b[0m\u001b[0;36m1\u001b[0m\u001b[0;34m]\u001b[0m\u001b[0;34m,\u001b[0m \u001b[0mcube\u001b[0m\u001b[0;34m[\u001b[0m\u001b[0;36m0\u001b[0m\u001b[0;34m]\u001b[0m\u001b[0;34m*\u001b[0m\u001b[0mi\u001b[0m\u001b[0;34m[\u001b[0m\u001b[0;36m0\u001b[0m\u001b[0;34m]\u001b[0m \u001b[0;34m+\u001b[0m \u001b[0mcube\u001b[0m\u001b[0;34m[\u001b[0m\u001b[0;36m1\u001b[0m\u001b[0;34m]\u001b[0m\u001b[0;34m,\u001b[0m \u001b[0;36m10\u001b[0m\u001b[0;34m)\u001b[0m\u001b[0;34m\u001b[0m\u001b[0;34m\u001b[0m\u001b[0m\n\u001b[0m\u001b[1;32m     20\u001b[0m     \u001b[0;32mreturn\u001b[0m \u001b[0mlog_likelihood\u001b[0m\u001b[0;34m\u001b[0m\u001b[0;34m\u001b[0m\u001b[0m\n\u001b[1;32m     21\u001b[0m \u001b[0;34m\u001b[0m\u001b[0m\n",
      "\u001b[0;32m<ipython-input-4-ab70fac2677b>\u001b[0m in \u001b[0;36mlog_gaussian\u001b[0;34m(x, mu, sig)\u001b[0m\n\u001b[1;32m     12\u001b[0m \u001b[0;34m\u001b[0m\u001b[0m\n\u001b[1;32m     13\u001b[0m \u001b[0;32mdef\u001b[0m \u001b[0mlog_gaussian\u001b[0m\u001b[0;34m(\u001b[0m\u001b[0mx\u001b[0m\u001b[0;34m,\u001b[0m \u001b[0mmu\u001b[0m\u001b[0;34m,\u001b[0m \u001b[0msig\u001b[0m\u001b[0;34m)\u001b[0m\u001b[0;34m:\u001b[0m\u001b[0;34m\u001b[0m\u001b[0;34m\u001b[0m\u001b[0m\n\u001b[0;32m---> 14\u001b[0;31m     \u001b[0;32mreturn\u001b[0m \u001b[0mnp\u001b[0m\u001b[0;34m.\u001b[0m\u001b[0mlog\u001b[0m\u001b[0;34m(\u001b[0m\u001b[0;36m1\u001b[0m\u001b[0;34m/\u001b[0m\u001b[0mnp\u001b[0m\u001b[0;34m.\u001b[0m\u001b[0msqrt\u001b[0m\u001b[0;34m(\u001b[0m\u001b[0;36m2\u001b[0m \u001b[0;34m*\u001b[0m \u001b[0mnp\u001b[0m\u001b[0;34m.\u001b[0m\u001b[0mpi\u001b[0m \u001b[0;34m*\u001b[0m \u001b[0msig\u001b[0m\u001b[0;34m**\u001b[0m\u001b[0;36m2.0\u001b[0m\u001b[0;34m)\u001b[0m\u001b[0;34m)\u001b[0m  \u001b[0;34m+\u001b[0m  \u001b[0;34m(\u001b[0m\u001b[0;34m-\u001b[0m\u001b[0;36m0.5\u001b[0m\u001b[0;34m/\u001b[0m\u001b[0msig\u001b[0m\u001b[0;34m**\u001b[0m\u001b[0;36m2.0\u001b[0m\u001b[0;34m)\u001b[0m \u001b[0;34m*\u001b[0m \u001b[0;34m(\u001b[0m\u001b[0mx\u001b[0m \u001b[0;34m-\u001b[0m \u001b[0mmu\u001b[0m\u001b[0;34m)\u001b[0m\u001b[0;34m**\u001b[0m\u001b[0;36m2.0\u001b[0m\u001b[0;34m\u001b[0m\u001b[0;34m\u001b[0m\u001b[0m\n\u001b[0m\u001b[1;32m     15\u001b[0m \u001b[0;34m\u001b[0m\u001b[0m\n\u001b[1;32m     16\u001b[0m \u001b[0;32mdef\u001b[0m \u001b[0mmyloglike\u001b[0m\u001b[0;34m(\u001b[0m\u001b[0mcube\u001b[0m\u001b[0;34m)\u001b[0m\u001b[0;34m:\u001b[0m\u001b[0;34m\u001b[0m\u001b[0;34m\u001b[0m\u001b[0m\n",
      "\u001b[0;31mKeyboardInterrupt\u001b[0m: "
     ]
    }
   ],
   "source": [
    "sampler = Sampler(log_likelihood=myloglike, prior=myprior, ndim = 2, sample_method = 'mcmc')\n",
    "sampler.sample()"
   ]
  },
  {
   "cell_type": "code",
   "execution_count": 29,
   "metadata": {},
   "outputs": [],
   "source": [
    "pymultinest.run(myloglike, myprior, 2, outputfiles_basename='./1-',resume = False, verbose = True)"
   ]
  },
  {
   "cell_type": "code",
   "execution_count": null,
   "metadata": {},
   "outputs": [],
   "source": []
  }
 ],
 "metadata": {
  "kernelspec": {
   "display_name": "bahamas_env",
   "language": "python",
   "name": "bahamas_env"
  },
  "language_info": {
   "codemirror_mode": {
    "name": "ipython",
    "version": 3
   },
   "file_extension": ".py",
   "mimetype": "text/x-python",
   "name": "python",
   "nbconvert_exporter": "python",
   "pygments_lexer": "ipython3",
   "version": "3.9.2"
  }
 },
 "nbformat": 4,
 "nbformat_minor": 4
}
