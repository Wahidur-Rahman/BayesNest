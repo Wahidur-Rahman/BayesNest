{
 "cells": [
  {
   "cell_type": "code",
   "execution_count": 1,
   "metadata": {},
   "outputs": [
    {
     "name": "stderr",
     "output_type": "stream",
     "text": [
      "ERROR:root:Internal Python error in the inspect module.\n",
      "Below is the traceback from this internal error.\n",
      "\n"
     ]
    },
    {
     "name": "stdout",
     "output_type": "stream",
     "text": [
      "problem: dlopen(/usr/local/lib/libmultinest.dylib, 6): Library not loaded: /usr/local/opt/gcc/lib/gcc/9/libgfortran.5.dylib\n",
      "  Referenced from: /usr/local/lib/libmultinest.3.10.dylib\n",
      "  Reason: image not found\n",
      "Traceback (most recent call last):\n",
      "  File \"/Users/rahmanw/opt/anaconda3/envs/bahamas_env/lib/python3.8/site-packages/pymultinest/run.py\", line 16, in _load_library\n",
      "    return cdll.LoadLibrary(libname)\n",
      "  File \"/Users/rahmanw/opt/anaconda3/envs/bahamas_env/lib/python3.8/ctypes/__init__.py\", line 451, in LoadLibrary\n",
      "    return self._dlltype(name)\n",
      "  File \"/Users/rahmanw/opt/anaconda3/envs/bahamas_env/lib/python3.8/ctypes/__init__.py\", line 373, in __init__\n",
      "    self._handle = _dlopen(self._name, mode)\n",
      "OSError: dlopen(/usr/local/lib/libmultinest.dylib, 6): Library not loaded: /usr/local/opt/gcc/lib/gcc/9/libgfortran.5.dylib\n",
      "  Referenced from: /usr/local/lib/libmultinest.3.10.dylib\n",
      "  Reason: image not found\n",
      "\n",
      "During handling of the above exception, another exception occurred:\n",
      "\n",
      "Traceback (most recent call last):\n",
      "  File \"/Users/rahmanw/opt/anaconda3/envs/bahamas_env/lib/python3.8/site-packages/IPython/core/interactiveshell.py\", line 3331, in run_code\n",
      "    exec(code_obj, self.user_global_ns, self.user_ns)\n",
      "  File \"<ipython-input-1-384bc66b04bb>\", line 5, in <module>\n",
      "    import pymultinest\n",
      "  File \"/Users/rahmanw/opt/anaconda3/envs/bahamas_env/lib/python3.8/site-packages/pymultinest/__init__.py\", line 19, in <module>\n",
      "    from .run import run\n",
      "  File \"/Users/rahmanw/opt/anaconda3/envs/bahamas_env/lib/python3.8/site-packages/pymultinest/run.py\", line 52, in <module>\n",
      "    lib = _load_library('libmultinest')\n",
      "  File \"/Users/rahmanw/opt/anaconda3/envs/bahamas_env/lib/python3.8/site-packages/pymultinest/run.py\", line 50, in _load_library\n",
      "    sys.exit(1)\n",
      "SystemExit: 1\n",
      "\n",
      "During handling of the above exception, another exception occurred:\n",
      "\n",
      "Traceback (most recent call last):\n",
      "  File \"/Users/rahmanw/opt/anaconda3/envs/bahamas_env/lib/python3.8/site-packages/IPython/core/ultratb.py\", line 1148, in get_records\n",
      "    return _fixed_getinnerframes(etb, number_of_lines_of_context, tb_offset)\n",
      "  File \"/Users/rahmanw/opt/anaconda3/envs/bahamas_env/lib/python3.8/site-packages/IPython/core/ultratb.py\", line 316, in wrapped\n",
      "    return f(*args, **kwargs)\n",
      "  File \"/Users/rahmanw/opt/anaconda3/envs/bahamas_env/lib/python3.8/site-packages/IPython/core/ultratb.py\", line 350, in _fixed_getinnerframes\n",
      "    records = fix_frame_records_filenames(inspect.getinnerframes(etb, context))\n",
      "  File \"/Users/rahmanw/opt/anaconda3/envs/bahamas_env/lib/python3.8/inspect.py\", line 1503, in getinnerframes\n",
      "    frameinfo = (tb.tb_frame,) + getframeinfo(tb, context)\n",
      "AttributeError: 'tuple' object has no attribute 'tb_frame'\n"
     ]
    },
    {
     "ename": "SystemExit",
     "evalue": "1",
     "output_type": "error",
     "traceback": [
      "An exception has occurred, use %tb to see the full traceback.\n",
      "\u001b[0;31m---------------------------------------------------------------------------\u001b[0m",
      "\nDuring handling of the above exception, another exception occurred:\n",
      "\u001b[0;31mSystemExit\u001b[0m\u001b[0;31m:\u001b[0m 1\n"
     ]
    },
    {
     "name": "stderr",
     "output_type": "stream",
     "text": [
      "/Users/rahmanw/opt/anaconda3/envs/bahamas_env/lib/python3.8/site-packages/IPython/core/interactiveshell.py:3339: UserWarning: To exit: use 'exit', 'quit', or Ctrl-D.\n",
      "  warn(\"To exit: use 'exit', 'quit', or Ctrl-D.\", stacklevel=1)\n"
     ]
    }
   ],
   "source": [
    "import sys\n",
    "from pynest import Sampler\n",
    "import numpy as np\n",
    "import matplotlib.pyplot as plt\n",
    "import pymultinest\n",
    "def simulate_data(a,b,n):\n",
    "    x = np.linspace(0,10,n)\n",
    "    y = a*x + b + np.random.normal(loc=0,scale=10,size=n)\n",
    "    return x,y\n",
    "\n",
    "x, y = simulate_data(5,10,100)\n",
    "\n",
    "def log_gaussian(x, mu, sig):\n",
    "    return np.log(1/np.sqrt(2 * np.pi * sig**2.0))  +  (-0.5/sig**2.0) * (x - mu)**2.0\n",
    "\n",
    "def myloglike(cube,ndim,nparams):\n",
    "    log_likelihood = 0\n",
    "    for i in tuple(zip(x,y)):\n",
    "        log_likelihood += log_gaussian(i[1], cube[0]*i[0] + cube[1], 10)\n",
    "    return log_likelihood\n",
    "\n",
    "def myprior(cube,ndim,nparams):\n",
    "    cube[0] = cube[0] * 10\n",
    "    cube[1] = cube[1] * 20\n",
    "    return cube\n",
    "\n",
    "def test_mcmc_instantation():\n",
    "    sampler = Sampler(log_likelihood=myloglike, prior=myprior, ndim = 2, sample_method = 'mcmc')\n",
    "    sampler.sample()\n",
    "\n"
   ]
  },
  {
   "cell_type": "code",
   "execution_count": null,
   "metadata": {},
   "outputs": [],
   "source": [
    "plt.scatter(x,y,s=5)"
   ]
  },
  {
   "cell_type": "code",
   "execution_count": null,
   "metadata": {},
   "outputs": [],
   "source": [
    "param1 = np.linspace(0,20,100)\n",
    "param1_likval = [myloglike([5,param]) for param in param1]"
   ]
  },
  {
   "cell_type": "code",
   "execution_count": null,
   "metadata": {},
   "outputs": [],
   "source": [
    "plt.scatter(param1,param1_likval,s=5)\n",
    "plt.axvline(10)"
   ]
  },
  {
   "cell_type": "code",
   "execution_count": null,
   "metadata": {},
   "outputs": [],
   "source": [
    "param2 = np.linspace(0,10,100)\n",
    "param2_likval = [myloglike([param,10]) for param in param2]"
   ]
  },
  {
   "cell_type": "code",
   "execution_count": null,
   "metadata": {},
   "outputs": [],
   "source": [
    "plt.scatter(param2,param2_likval,s=5)\n",
    "plt.axvline(5)"
   ]
  },
  {
   "cell_type": "code",
   "execution_count": null,
   "metadata": {},
   "outputs": [],
   "source": [
    "np.random.normal(loc=0,scale=10)"
   ]
  },
  {
   "cell_type": "code",
   "execution_count": null,
   "metadata": {},
   "outputs": [],
   "source": [
    "sampler = Sampler(log_likelihood=myloglike, prior=myprior, ndim = 2, sample_method = 'mcmc')\n",
    "sampler.sample()"
   ]
  },
  {
   "cell_type": "code",
   "execution_count": null,
   "metadata": {},
   "outputs": [],
   "source": [
    "pymultinest.run(myloglike, myprior, 2, outputfiles_basename='./2-',resume = False, verbose = True)"
   ]
  },
  {
   "cell_type": "code",
   "execution_count": null,
   "metadata": {},
   "outputs": [],
   "source": []
  }
 ],
 "metadata": {
  "kernelspec": {
   "display_name": "Python (bahamas_env)",
   "language": "python",
   "name": "bahamas_env"
  },
  "language_info": {
   "codemirror_mode": {
    "name": "ipython",
    "version": 3
   },
   "file_extension": ".py",
   "mimetype": "text/x-python",
   "name": "python",
   "nbconvert_exporter": "python",
   "pygments_lexer": "ipython3",
   "version": "3.8.3"
  }
 },
 "nbformat": 4,
 "nbformat_minor": 4
}
