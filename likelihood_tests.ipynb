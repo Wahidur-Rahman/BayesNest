{
 "cells": [
  {
   "cell_type": "code",
   "execution_count": 10,
   "metadata": {},
   "outputs": [],
   "source": [
    "import sys\n",
    "from pynest import Sampler\n",
    "import numpy as np\n",
    "import matplotlib.pyplot as plt\n",
    "import pymultinest\n",
    "def simulate_data(a,b,n):\n",
    "    x = np.linspace(0,10,n)\n",
    "    y = a*x + b + np.random.normal(loc=0,scale=10,size=n)\n",
    "    return x,y\n",
    "\n",
    "x, y = simulate_data(5,10,100)\n",
    "\n",
    "def log_gaussian(x, mu, sig):\n",
    "    return np.log(1/np.sqrt(2 * np.pi * sig**2.0))  +  (-0.5/sig**2.0) * (x - mu)**2.0\n",
    "\n",
    "def myloglike(cube,ndim,nparams):\n",
    "    log_likelihood = 0\n",
    "    for i in tuple(zip(x,y)):\n",
    "        log_likelihood += log_gaussian(i[1], cube[0]*i[0] + cube[1], 10)\n",
    "    return log_likelihood\n",
    "\n",
    "def myprior(cube,ndim,nparams):\n",
    "    cube[0] = cube[0] * 10\n",
    "    cube[1] = cube[1] * 20\n",
    "    return cube\n",
    "\n",
    "def test_mcmc_instantation():\n",
    "    sampler = Sampler(log_likelihood=myloglike, prior=myprior, ndim = 2, sample_method = 'mcmc')\n",
    "    sampler.sample()\n",
    "\n"
   ]
  },
  {
   "cell_type": "code",
   "execution_count": 2,
   "metadata": {},
   "outputs": [
    {
     "data": {
      "text/plain": [
       "<matplotlib.collections.PathCollection at 0x7f85833b6220>"
      ]
     },
     "execution_count": 2,
     "metadata": {},
     "output_type": "execute_result"
    },
    {
     "data": {
      "image/png": "[encoded data removed]",
      "text/plain": [
       "<Figure size 432x288 with 1 Axes>"
      ]
     },
     "metadata": {
      "needs_background": "light"
     },
     "output_type": "display_data"
    }
   ],
   "source": [
    "plt.scatter(x,y,s=5)"
   ]
  },
  {
   "cell_type": "code",
   "execution_count": 3,
   "metadata": {},
   "outputs": [],
   "source": [
    "param1 = np.linspace(0,20,100)\n",
    "param1_likval = [myloglike([5,param]) for param in param1]"
   ]
  },
  {
   "cell_type": "code",
   "execution_count": 4,
   "metadata": {},
   "outputs": [
    {
     "data": {
      "text/plain": [
       "<matplotlib.lines.Line2D at 0x7f858336a5b0>"
      ]
     },
     "execution_count": 4,
     "metadata": {},
     "output_type": "execute_result"
    },
    {
     "data": {
      "image/png": "[encoded data removed]",
      "text/plain": [
       "<Figure size 432x288 with 1 Axes>"
      ]
     },
     "metadata": {
      "needs_background": "light"
     },
     "output_type": "display_data"
    }
   ],
   "source": [
    "plt.scatter(param1,param1_likval,s=5)\n",
    "plt.axvline(10)"
   ]
  },
  {
   "cell_type": "code",
   "execution_count": 5,
   "metadata": {},
   "outputs": [],
   "source": [
    "param2 = np.linspace(0,10,100)\n",
    "param2_likval = [myloglike([param,10]) for param in param2]"
   ]
  },
  {
   "cell_type": "code",
   "execution_count": 6,
   "metadata": {},
   "outputs": [
    {
     "data": {
      "text/plain": [
       "<matplotlib.lines.Line2D at 0x7f85832bcfa0>"
      ]
     },
     "execution_count": 6,
     "metadata": {},
     "output_type": "execute_result"
    },
    {
     "data": {
      "image/png": "[encoded data removed]",
      "text/plain": [
       "<Figure size 432x288 with 1 Axes>"
      ]
     },
     "metadata": {
      "needs_background": "light"
     },
     "output_type": "display_data"
    }
   ],
   "source": [
    "plt.scatter(param2,param2_likval,s=5)\n",
    "plt.axvline(5)"
   ]
  },
  {
   "cell_type": "code",
   "execution_count": 7,
   "metadata": {},
   "outputs": [
    {
     "data": {
      "text/plain": [
       "-10.854615778389483"
      ]
     },
     "execution_count": 7,
     "metadata": {},
     "output_type": "execute_result"
    }
   ],
   "source": [
    "np.random.normal(loc=0,scale=10)"
   ]
  },
  {
   "cell_type": "code",
   "execution_count": 8,
   "metadata": {},
   "outputs": [
    {
     "name": "stdout",
     "output_type": "stream",
     "text": [
      "cube [0.3441158281951985, 0.2309591400377099] [3.441158281951985, 4.6191828007541975]\n",
      "-366.1783584336433 -5.992714286691313 -372.1710727203346\n",
      "9.348879021869488e-160 0.0024968776025399153 2.3343006638561196e-162\n",
      "Log Evidence: 0\n"
     ]
    }
   ],
   "source": [
    "sampler = Sampler(log_likelihood=myloglike, prior=myprior, ndim = 2, sample_method = 'mcmc')\n",
    "sampler.sample()"
   ]
  },
  {
   "cell_type": "code",
   "execution_count": 12,
   "metadata": {},
   "outputs": [],
   "source": [
    "pymultinest.run(myloglike, myprior, 2, outputfiles_basename='./2-',resume = False, verbose = True)"
   ]
  },
  {
   "cell_type": "code",
   "execution_count": null,
   "metadata": {},
   "outputs": [],
   "source": []
  }
 ],
 "metadata": {
  "kernelspec": {
   "display_name": "bahamas_env",
   "language": "python",
   "name": "bahamas_env"
  },
  "language_info": {
   "codemirror_mode": {
    "name": "ipython",
    "version": 3
   },
   "file_extension": ".py",
   "mimetype": "text/x-python",
   "name": "python",
   "nbconvert_exporter": "python",
   "pygments_lexer": "ipython3",
   "version": "3.9.1"
  }
 },
 "nbformat": 4,
 "nbformat_minor": 4
}
